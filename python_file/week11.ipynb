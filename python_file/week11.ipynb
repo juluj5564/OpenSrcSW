{
 "cells": [
  {
   "cell_type": "code",
   "execution_count": 2,
   "metadata": {
    "scrolled": true
   },
   "outputs": [
    {
     "name": "stdout",
     "output_type": "stream",
     "text": [
      "cp input.txt output.txt\n"
     ]
    }
   ],
   "source": [
    "a = input()\n",
    "input_data = a.split()\n",
    "f1 = open(input_data[1], 'r')\n",
    "f2 = open(input_data[2], 'w')\n",
    "for line in f1:\n",
    "    f2.write(line)\n",
    "\n",
    "f1.close()\n",
    "f2.close()"
   ]
  },
  {
   "cell_type": "code",
   "execution_count": 3,
   "metadata": {},
   "outputs": [
    {
     "name": "stdout",
     "output_type": "stream",
     "text": [
      "input.txt\n",
      "라인 수 :  6 \t단어 수 :  12\n"
     ]
    }
   ],
   "source": [
    "a = input()\n",
    "f = open(a, 'r')\n",
    "lines = 0\n",
    "words = 0\n",
    "for in_line in f:\n",
    "    lines = lines + 1\n",
    "    in_words = in_line.split()\n",
    "    words = words + len(in_words)\n",
    "print(\"라인 수 : \", lines, \"\\t단어 수 : \", words)"
   ]
  },
  {
   "cell_type": "code",
   "execution_count": 10,
   "metadata": {},
   "outputs": [
    {
     "name": "stdout",
     "output_type": "stream",
     "text": [
      "1  +  2  =  3 입니다.\n",
      "5  -  1  =  4 입니다.\n",
      "2  *  3  =  6 입니다.\n",
      "6  /  2  =  3 입니다.\n"
     ]
    }
   ],
   "source": [
    "class Clac:\n",
    "    def sum(self, a, b):\n",
    "        result = a + b\n",
    "        print(a, \" + \", b, \" = \", result, \"입니다.\")\n",
    "    def sub(self, a, b):\n",
    "        result = a - b\n",
    "        print(a, \" - \", b, \" = \", result, \"입니다.\")\n",
    "    def multi(self, a, b):\n",
    "        result = a * b\n",
    "        print(a, \" * \", b, \" = \", result, \"입니다.\")\n",
    "    def divi(self, a, b):\n",
    "        result = a / b\n",
    "        print(a, \" / \", b, \" = \", int(result), \"입니다.\")\n",
    "        \n",
    "clac = Clac()\n",
    "clac.sum(1, 2)\n",
    "clac.sub(5, 1)\n",
    "clac.multi(2, 3)\n",
    "clac.divi(6, 2)"
   ]
  },
  {
   "cell_type": "code",
   "execution_count": null,
   "metadata": {},
   "outputs": [],
   "source": []
  }
 ],
 "metadata": {
  "kernelspec": {
   "display_name": "Python 3",
   "language": "python",
   "name": "python3"
  },
  "language_info": {
   "codemirror_mode": {
    "name": "ipython",
    "version": 3
   },
   "file_extension": ".py",
   "mimetype": "text/x-python",
   "name": "python",
   "nbconvert_exporter": "python",
   "pygments_lexer": "ipython3",
   "version": "3.8.5"
  }
 },
 "nbformat": 4,
 "nbformat_minor": 4
}
