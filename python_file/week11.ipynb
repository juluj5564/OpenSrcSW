{
 "cells": [
  {
   "cell_type": "code",
   "execution_count": 2,
   "metadata": {
    "scrolled": true
   },
   "outputs": [
    {
     "name": "stdout",
     "output_type": "stream",
     "text": [
      "cp input.txt output.txt\n"
     ]
    }
   ],
   "source": [
    "a = input()\n",
    "input_data = a.split()\n",
    "f1 = open(input_data[1], 'r')\n",
    "f2 = open(input_data[2], 'w')\n",
    "for line in f1:\n",
    "    f2.write(line)\n",
    "\n",
    "f1.close()\n",
    "f2.close()"
   ]
  },
  {
   "cell_type": "code",
   "execution_count": 10,
   "metadata": {},
   "outputs": [
    {
     "name": "stdout",
     "output_type": "stream",
     "text": [
      "input.txt\n",
      "라인 수 :  6 \t단어 수 :  12\n"
     ]
    }
   ],
   "source": [
    "a = input()\n",
    "f = open(a, 'r')\n",
    "lines = 0\n",
    "words = 0\n",
    "for in_line in f:\n",
    "    lines = lines + 1\n",
    "    in_words = in_line.split()\n",
    "    words = words + len(in_words)\n",
    "print(\"라인 수 : \", lines, \"\\t단어 수 : \", words)"
   ]
  },
  {
   "cell_type": "code",
   "execution_count": 11,
   "metadata": {},
   "outputs": [],
   "source": [
    "class Calc:\n",
    "    def sum(self, a, b):\n",
    "        result = a + b\n",
    "        print(a, \" + \", b, \" = \", result, \"입니다.\")\n",
    "    def sub(self, a, b):\n",
    "        result = a - b\n",
    "        print(a, \" - \", b, \" = \", result, \"입니다.\")\n",
    "    def multi(self, a, b):\n",
    "        result = a * b\n",
    "        print(a, \" * \", b, \" = \", result, \"입니다.\")\n",
    "    def divi(self, a, b):\n",
    "        result = a / b\n",
    "        print(a, \" / \", b, \" = \", int(result), \"입니다.\")\n",
    "        "
   ]
  },
  {
   "cell_type": "code",
   "execution_count": 16,
   "metadata": {},
   "outputs": [
    {
     "name": "stdout",
     "output_type": "stream",
     "text": [
      "1  +  2  =  3 입니다.\n",
      "5  -  1  =  4 입니다.\n",
      "2  *  3  =  6 입니다.\n",
      "6  /  2  =  3 입니다.\n"
     ]
    }
   ],
   "source": [
    "calc = Calc()\n",
    "calc.sum(1, 2)\n",
    "calc.sub(5, 1)\n",
    "calc.multi(2, 3)\n",
    "calc.divi(6, 2)"
   ]
  },
  {
   "cell_type": "code",
   "execution_count": 17,
   "metadata": {
    "scrolled": false
   },
   "outputs": [
    {
     "name": "stdout",
     "output_type": "stream",
     "text": [
      "계산식 입력 : 1 + 5 + 9 - 7 * 10 + 5 - 10\n",
      "계산식 출력 : 1 + 5 + 9 - 7 * 10 + 5 - 10 = -60\n"
     ]
    }
   ],
   "source": [
    "class calculator:\n",
    "    def calculate(self, str):\n",
    "        priority = False\n",
    "        str_list = str.split()\n",
    "        stack_num = []\n",
    "        stack_op = []\n",
    "        stack_num.append(str_list[0])\n",
    "        for a in range(1, len(str_list)):\n",
    "            if a % 2 == 0 :\n",
    "                if str_list[a - 1] == '-' :\n",
    "                    stack_num.append(int(str_list[a]) * -1)\n",
    "                else :\n",
    "                    stack_num.append(str_list[a])\n",
    "                    \n",
    "                if priority == True :\n",
    "                    num2 = stack_num.pop()\n",
    "                    num1 = stack_num.pop()\n",
    "                    operator = stack_op.pop()\n",
    "                    if operator == '*' :\n",
    "                        stack_num.append(int(num1) * int(num2))\n",
    "                    else :\n",
    "                        stack_num.append(int(num1) / int(num2))\n",
    "                    priority = False\n",
    "            \n",
    "            else :\n",
    "                if str_list[a] == '*' or str_list[a] == '/' :\n",
    "                    priority = True\n",
    "                    stack_op.append(str_list[a])\n",
    "                else :\n",
    "                    if len(stack_num) > 1 :\n",
    "                        num2 = stack_num.pop()\n",
    "                        num1 = stack_num.pop()\n",
    "                        stack_num.append(int(num1) + int(num2))\n",
    "                        stack_op.append('+')\n",
    "        \n",
    "        if len(stack_num) > 1 :\n",
    "            num2 = stack_num.pop()\n",
    "            num1 = stack_num.pop()\n",
    "            if stack_op[0] == '+' :\n",
    "                stack_num.append(int(num1) + int(num2))\n",
    "\n",
    "            else :\n",
    "                stack_num.append(int(num1) - int(num2))\n",
    "\n",
    "        return stack_num.pop()\n",
    "\n",
    "calculator = calculator()\n",
    "print(\"계산식 입력 : \", end = \"\");\n",
    "str = input()\n",
    "print(\"계산식 출력 :\", str, \"=\", calculator.calculate(str))"
   ]
  },
  {
   "cell_type": "code",
   "execution_count": null,
   "metadata": {},
   "outputs": [],
   "source": []
  }
 ],
 "metadata": {
  "kernelspec": {
   "display_name": "Python 3",
   "language": "python",
   "name": "python3"
  },
  "language_info": {
   "codemirror_mode": {
    "name": "ipython",
    "version": 3
   },
   "file_extension": ".py",
   "mimetype": "text/x-python",
   "name": "python",
   "nbconvert_exporter": "python",
   "pygments_lexer": "ipython3",
   "version": "3.8.5"
  }
 },
 "nbformat": 4,
 "nbformat_minor": 4
}
