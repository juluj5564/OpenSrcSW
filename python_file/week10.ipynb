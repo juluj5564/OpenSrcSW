{
 "cells": [
  {
   "cell_type": "code",
   "execution_count": 14,
   "metadata": {},
   "outputs": [
    {
     "name": "stdout",
     "output_type": "stream",
     "text": [
      "123 456\n",
      "Max :  456\n"
     ]
    }
   ],
   "source": [
    "a = input()\n",
    "num_list = a.split()\n",
    "for i in range(0, len(num_list)):\n",
    "    if i:\n",
    "        if max < int(num_list[i]):\n",
    "            max = int(num_list[i])\n",
    "    else:\n",
    "        max = int(num_list[0])\n",
    "print(\"Max : \", max)"
   ]
  },
  {
   "cell_type": "code",
   "execution_count": 31,
   "metadata": {},
   "outputs": [
    {
     "name": "stdout",
     "output_type": "stream",
     "text": [
      "1 : 암호화, 2: 복호화\n",
      "1\n",
      "abc def\n",
      "efg bcd \n",
      "1 : 암호화, 2: 복호화\n",
      "1\n",
      "abc def\n",
      "efg bcd \n",
      "1 : 암호화, 2: 복호화\n",
      "2\n",
      "efg bcd\n",
      "abc def 1 : 암호화, 2: 복호화\n",
      "2\n",
      "efg bcd\n",
      "abc def 1 : 암호화, 2: 복호화\n",
      "100\n"
     ]
    }
   ],
   "source": [
    "while 1 :\n",
    "    print(\"1 : 암호화, 2 : 복호화\")\n",
    "    c = int(input())\n",
    "    if c == 1 :\n",
    "        a = input()\n",
    "        str_arr = a.split()\n",
    "        str_arr.reverse()\n",
    "        for i in range(0, len(str_arr)):\n",
    "            char_arr = list(str_arr[i])\n",
    "            for j in range(0, len(char_arr)):\n",
    "                print(chr(ord(char_arr[j]) + 1), end = \"\")\n",
    "            print(\" \", end = \"\")\n",
    "        print()\n",
    "    elif c == 2 :\n",
    "        b = input()\n",
    "        str_arr2 = b.split()\n",
    "        str_arr2.reverse()\n",
    "        for i in range(0, len(str_arr2)):\n",
    "            char_arr2 = list(str_arr2[i])\n",
    "            for j in range(0, len(char_arr2)):\n",
    "                print(chr(ord(char_arr2[j]) - 1), end = \"\")\n",
    "            print(\" \", end = \"\")\n",
    "        print()\n",
    "    else :\n",
    "        break;"
   ]
  },
  {
   "cell_type": "code",
   "execution_count": null,
   "metadata": {},
   "outputs": [
    {
     "name": "stdout",
     "output_type": "stream",
     "text": [
      "10명의 사람 이름과 전화번호를 순차적으로 입력하세요.\n",
      "abc 123\n",
      "0\n",
      "def 456\n",
      "1\n",
      "qwe 123545\n",
      "2\n",
      "oirgpo 4590809\n",
      "3\n",
      "erpgoko 345809\n",
      "4\n",
      "1 : 전화번호 찾기, 2 : 이름 찾기\n"
     ]
    }
   ],
   "source": [
    "dic = dict()\n",
    "print(\"10명의 사람 이름과 전화번호를 순차적으로 입력하세요.\")\n",
    "i = 0\n",
    "while i < 10 :\n",
    "    a = input()\n",
    "    arr = a.split()\n",
    "    if dic.__contains__(arr[1]) :\n",
    "        print(\"같은 전화번호가 있습니다. 다시 입력해주세요.\")\n",
    "        i = i - 1\n",
    "        \n",
    "    else :\n",
    "        dic[arr[1]] = arr[0]\n",
    "    print(i)\n",
    "    i = i + 1\n",
    "\n",
    "while 1 :\n",
    "    print(\"1 : 전화번호 찾기, 2 : 이름 찾기\")\n",
    "    c = int(input())\n",
    "    if c == 1 :\n",
    "        print(\"이름을 입력해주세요\")\n",
    "        name = input()\n",
    "        for num in dic:\n",
    "            if(dic.get(num) == name) :\n",
    "                print(\"전화번호 : \", num)\n",
    "    elif c == 2 :\n",
    "        print(\"전화번호를 입력해주세요\")\n",
    "        num = input()\n",
    "        print(\"이름 : \", dic.get(num))\n",
    "    else :\n",
    "        break;"
   ]
  },
  {
   "cell_type": "code",
   "execution_count": null,
   "metadata": {},
   "outputs": [],
   "source": []
  }
 ],
 "metadata": {
  "kernelspec": {
   "display_name": "Python 3",
   "language": "python",
   "name": "python3"
  },
  "language_info": {
   "codemirror_mode": {
    "name": "ipython",
    "version": 3
   },
   "file_extension": ".py",
   "mimetype": "text/x-python",
   "name": "python",
   "nbconvert_exporter": "python",
   "pygments_lexer": "ipython3",
   "version": "3.8.5"
  }
 },
 "nbformat": 4,
 "nbformat_minor": 4
}
