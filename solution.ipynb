{
 "cells": [
  {
   "cell_type": "code",
   "execution_count": 84,
   "metadata": {},
   "outputs": [
    {
     "name": "stdout",
     "output_type": "stream",
     "text": [
      "(1,2)\n",
      "(3,4)\n"
     ]
    },
    {
     "ename": "TypeError",
     "evalue": "unsupported operand type(s) for +: 'Point' and 'Point'",
     "output_type": "error",
     "traceback": [
      "\u001b[1;31m---------------------------------------------------------------------------\u001b[0m",
      "\u001b[1;31mTypeError\u001b[0m                                 Traceback (most recent call last)",
      "\u001b[1;32m<ipython-input-84-d0327aa2c62e>\u001b[0m in \u001b[0;36m<module>\u001b[1;34m\u001b[0m\n\u001b[0;32m     16\u001b[0m \u001b[0mb\u001b[0m\u001b[1;33m.\u001b[0m\u001b[0mshow\u001b[0m\u001b[1;33m(\u001b[0m\u001b[1;33m)\u001b[0m\u001b[1;33m\u001b[0m\u001b[1;33m\u001b[0m\u001b[0m\n\u001b[0;32m     17\u001b[0m \u001b[1;33m\u001b[0m\u001b[0m\n\u001b[1;32m---> 18\u001b[1;33m \u001b[0ma\u001b[0m \u001b[1;33m=\u001b[0m \u001b[0ma\u001b[0m \u001b[1;33m+\u001b[0m \u001b[0mb\u001b[0m\u001b[1;33m\u001b[0m\u001b[1;33m\u001b[0m\u001b[0m\n\u001b[0m\u001b[0;32m     19\u001b[0m \u001b[0ma\u001b[0m\u001b[1;33m.\u001b[0m\u001b[0mshow\u001b[0m\u001b[1;33m(\u001b[0m\u001b[1;33m)\u001b[0m\u001b[1;33m\u001b[0m\u001b[1;33m\u001b[0m\u001b[0m\n",
      "\u001b[1;31mTypeError\u001b[0m: unsupported operand type(s) for +: 'Point' and 'Point'"
     ]
    }
   ],
   "source": [
    "class Point:\n",
    "    def __init__(self, a, b):\n",
    "        self.a = a\n",
    "        self.b = b\n",
    "    def show(self):\n",
    "        print(\"(\" + str(self.a) + \",\" + str(self.b) + \")\")\n",
    "        \n",
    "    \n",
    "a = Point(1, 2)\n",
    "a.show()\n",
    "\n",
    "b = Point(3, 4)\n",
    "b.show()\n",
    "\n",
    "a = a + b\n",
    "a.show()"
   ]
  },
  {
   "cell_type": "code",
   "execution_count": 30,
   "metadata": {
    "scrolled": false
   },
   "outputs": [
    {
     "name": "stdout",
     "output_type": "stream",
     "text": [
      "Max Week = 5/8 ~ 5/14\n"
     ]
    }
   ],
   "source": [
    "import csv\n",
    "\n",
    "f1 = open('seoul.csv', 'r')\n",
    "read_csv = csv.reader(f1)\n",
    "next(read_csv)\n",
    "\n",
    "cal = 0\n",
    "i = 0\n",
    "data = []\n",
    "max_cal = 0\n",
    "max_date = ''\n",
    "for row in read_csv:\n",
    "    data.append(float(row[-1]) - float(row[-2]))\n",
    "    i = i + 1\n",
    "    if(i > 6):\n",
    "        for j in data:\n",
    "            cal = cal + j\n",
    "        if cal > max_cal:\n",
    "            max_cal = cal\n",
    "            max_date = row[0]\n",
    "        cal = 0\n",
    "        data.pop(0)\n",
    "        #print(data)\n",
    "\n",
    "temp_date = max_date.split('-')\n",
    "end_date = int(temp_date[2])\n",
    "start_date = end_date - 6\n",
    "print(\"Max Week = \" + '5' + \"/\" + str(start_date) + \" ~ \" + '5' + \"/\" + str(end_date))"
   ]
  },
  {
   "cell_type": "code",
   "execution_count": 71,
   "metadata": {
    "scrolled": false
   },
   "outputs": [
    {
     "data": {
      "image/png": "[encoded data removed]",
      "text/plain": [
       "<Figure size 432x288 with 1 Axes>"
      ]
     },
     "metadata": {
      "needs_background": "light"
     },
     "output_type": "display_data"
    }
   ],
   "source": [
    "import pandas as pd\n",
    "import numpy as np\n",
    "import matplotlib.pyplot as plt\n",
    "\n",
    "docs = [(1, 1, 0, 1, 0, 1), (1, 1, 1, 0, 1, 0), (1, 1, 0, 1, 0, 0)]\n",
    "query = [1, 1, 0, 0, 1, 0]\n",
    "\n",
    "cos_cal = []\n",
    "\n",
    "for i in range(0, 3):\n",
    "    cal1 = 0\n",
    "    cal2 = 0\n",
    "    cal3 = 0\n",
    "    for j in range(0, len(query)):\n",
    "        cal1 = cal1 + docs[i][j] * query[j]\n",
    "        cal2 = cal2 + docs[i][j] * docs[i][j]\n",
    "        cal3 = cal3 + query[j] * query[j]\n",
    "    cal = cal1 / float(np.sqrt(cal2) * np.sqrt(cal3))\n",
    "    cos_cal.append(cal)\n",
    "\n",
    "plt.title('Cosine similarities')\n",
    "plt.hist(cos_cal, bins = 10)\n",
    "plt.show()\n"
   ]
  },
  {
   "cell_type": "code",
   "execution_count": null,
   "metadata": {},
   "outputs": [],
   "source": []
  }
 ],
 "metadata": {
  "kernelspec": {
   "display_name": "Python 3",
   "language": "python",
   "name": "python3"
  },
  "language_info": {
   "codemirror_mode": {
    "name": "ipython",
    "version": 3
   },
   "file_extension": ".py",
   "mimetype": "text/x-python",
   "name": "python",
   "nbconvert_exporter": "python",
   "pygments_lexer": "ipython3",
   "version": "3.8.5"
  }
 },
 "nbformat": 4,
 "nbformat_minor": 4
}
